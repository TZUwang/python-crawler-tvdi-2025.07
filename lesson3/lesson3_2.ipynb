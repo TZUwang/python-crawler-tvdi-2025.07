{
 "cells": [
  {
   "cell_type": "code",
   "execution_count": 13,
   "id": "5218c514",
   "metadata": {},
   "outputs": [
    {
     "name": "stdout",
     "output_type": "stream",
     "text": [
      "相加結果是: 11\n",
      "相減結果是: 45\n"
     ]
    }
   ],
   "source": [
    "#定義function\n",
    "def add_number(value1 ,value2):\n",
    "    return value1 + value2\n",
    "\n",
    "def mine_number(value1 ,value2):\n",
    "    return value1 - value2\n",
    "\n",
    "#呼叫\n",
    "result = add_number(5, 6)  #有幾個參數(value1,value2)就有幾個引數值(5,6)\n",
    "print(f\"相加結果是:\",result)\n",
    "\n",
    "result = mine_number(100, 55)\n",
    "print(f\"相減結果是:\",result)"
   ]
  },
  {
   "cell_type": "code",
   "execution_count": 15,
   "id": "9cdc90ad",
   "metadata": {},
   "outputs": [],
   "source": [
    "def merge_and_sort_lists(list1: list[int], list2: list[int]) -> list[int]:\n",
    "    merged = list1 + list2\n",
    "    merged.sort()\n",
    "    return merged"
   ]
  },
  {
   "cell_type": "markdown",
   "id": "3a99a529",
   "metadata": {},
   "source": [
    "這段程式碼定義了一個名為 merge_and_sort_lists 的函數，功能是將兩個整數列表合併並排序。讓我逐行解釋：\n",
    "\n",
    "### **函數定義**  \n",
    "def merge_and_sort_lists(list1: list[int], list2: list[int]) -> list[int]:\n",
    "def 關鍵字用來定義函數\n",
    "merge_and_sort_lists 是函數名稱\n",
    "list1: list[int] 和 list2: list[int] 是兩個參數，型別提示表示它們都是整數列表\n",
    "-> list[int] 表示函數的返回值也是整數列表\n",
    "\n",
    "### **函數內容**  \n",
    "merged = list1 + list2\n",
    "這行程式碼將兩個列表串接起來。Python 中的 + 運算子用於列表時會創建一個新的列表，包含兩個列表的所有元素。例如：\n",
    "[1, 3, 5] + [2, 4, 6] 會產生 [1, 3, 5, 2, 4, 6]\n",
    "\n",
    "##### merged.sort()  \n",
    "這行程式碼對合併後的列表進行原地排序（in-place sorting）。sort() 方法會直接修改原列表，預設是升序排列。\n",
    "\n",
    "##### return merged  \n",
    "返回排序後的列表。\n",
    "\n",
    "### **使用範例**  \n",
    "result = merge_and_sort_lists([1, 5, 3], [2, 4, 6])\n",
    "print(result)  # 輸出: [1, 2, 3, 4, 5, 6]"
   ]
  },
  {
   "cell_type": "code",
   "execution_count": 22,
   "id": "406176ee",
   "metadata": {},
   "outputs": [
    {
     "name": "stdout",
     "output_type": "stream",
     "text": [
      "合併並排序後的列表: [36, 48, 54, 56, 57, 96, 98, 100]\n"
     ]
    }
   ],
   "source": [
    "import random\n",
    "\n",
    "# 產生一個包含 10 個亂數整數的 list，每個整數介於 1 到 100 之間\n",
    "random_list1 = [random.randint(1, 100) for _ in range(3)]\n",
    "random_list2 = [random.randint(1, 100) for _ in range(5)]\n",
    "\n",
    "merged_sorted_list = merge_and_sort_lists(random_list1, random_list2)\n",
    "print(\"合併並排序後的列表:\", merged_sorted_list)\n",
    "# 此腳本定義了一個加法函數，合併兩個整數列表並排序。\n",
    "# 它也會產生兩個隨機整數列表，並將它們合併為一個排序後的列表。\n",
    "# 加法的結果儲存在 'result' 變數中。"
   ]
  }
 ],
 "metadata": {
  "kernelspec": {
   "display_name": "web_ceawler",
   "language": "python",
   "name": "python3"
  },
  "language_info": {
   "codemirror_mode": {
    "name": "ipython",
    "version": 3
   },
   "file_extension": ".py",
   "mimetype": "text/x-python",
   "name": "python",
   "nbconvert_exporter": "python",
   "pygments_lexer": "ipython3",
   "version": "3.11.13"
  }
 },
 "nbformat": 4,
 "nbformat_minor": 5
}
