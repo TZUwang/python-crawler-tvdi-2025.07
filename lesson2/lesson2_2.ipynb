{
 "cells": [
  {
   "cell_type": "markdown",
   "id": "ef4db2be",
   "metadata": {},
   "source": [
    "### python 基礎"
   ]
  },
  {
   "cell_type": "code",
   "execution_count": 2,
   "id": "afd40ebe",
   "metadata": {},
   "outputs": [
    {
     "name": "stdout",
     "output_type": "stream",
     "text": [
      "Hello! python!\n"
     ]
    }
   ],
   "source": [
    "print(\"Hello! python!\")"
   ]
  },
  {
   "cell_type": "code",
   "execution_count": 4,
   "id": "a7d3ff61",
   "metadata": {},
   "outputs": [
    {
     "name": "stdout",
     "output_type": "stream",
     "text": [
      "名字: Alice\n",
      "年齡: 25\n",
      "身高: 175.5\n",
      "你是學生嗎: True\n"
     ]
    }
   ],
   "source": [
    "#python基本變數\n",
    "\n",
    "name = \"Alice\"         # 字串（string）\n",
    "age = 25               # 整數（integer）\n",
    "height = 175.5          # 浮點數（float）\n",
    "is_student = True      # 布林值（boolean）\n",
    "\n",
    "print(f\"名字: {name}\")\n",
    "print(f\"年齡: {age}\")\n",
    "print(f\"身高: {height}\")\n",
    "print(f\"你是學生嗎: {is_student}\")"
   ]
  },
  {
   "cell_type": "code",
   "execution_count": 14,
   "id": "a0bb889c",
   "metadata": {},
   "outputs": [
    {
     "name": "stdout",
     "output_type": "stream",
     "text": [
      "計算總和是:55\n"
     ]
    }
   ],
   "source": [
    "a = 50\n",
    "b = 5\n",
    "result = a + b\n",
    "print(\"計算總和是:\", result, sep='')  #sep默認=空格 可自行定義"
   ]
  },
  {
   "cell_type": "code",
   "execution_count": 23,
   "id": "c9d0cee2",
   "metadata": {},
   "outputs": [
    {
     "name": "stdout",
     "output_type": "stream",
     "text": [
      "次方: 50的5次方 = 312500000\n"
     ]
    }
   ],
   "source": [
    "pow = a ** b\n",
    "print(f\"次方: {a}的{b}次方 = {pow}\")"
   ]
  },
  {
   "cell_type": "code",
   "execution_count": 22,
   "id": "916fdb24",
   "metadata": {},
   "outputs": [
    {
     "name": "stdout",
     "output_type": "stream",
     "text": [
      "Hello?Word?!!!?555\n"
     ]
    }
   ],
   "source": [
    "print(\"Hello\", \"Word\", \"!!!\", \"555\", sep='?')"
   ]
  },
  {
   "cell_type": "code",
   "execution_count": 30,
   "id": "e888fd25",
   "metadata": {},
   "outputs": [
    {
     "name": "stdout",
     "output_type": "stream",
     "text": [
      "此角度為36.86989764584402度\n"
     ]
    }
   ],
   "source": [
    "#利用內建function 有斜邊與對邊長度求三角形角度\n",
    "import math #一定要先叫出要使用的function\n",
    "\n",
    "#假設對邊長度3 斜邊長度5\n",
    "opposite = 3\n",
    "hypotenuse = 5\n",
    "\n",
    "#先求弧度\n",
    "radians = math.asin(opposite / hypotenuse)\n",
    "\n",
    "#將弧度轉換為角度\n",
    "degrees = math.degrees(radians)\n",
    "\n",
    "print(f\"此角度為{degrees:}度\")  "
   ]
  },
  {
   "cell_type": "code",
   "execution_count": 5,
   "id": "8cc02a00",
   "metadata": {},
   "outputs": [
    {
     "name": "stdout",
     "output_type": "stream",
     "text": [
      "此角度為36.870度\n"
     ]
    }
   ],
   "source": [
    "degrees = 36.86989764584402\n",
    "print(f\"此角度為{degrees:.3f}度\")  #.3f代表為 .3小數點後三位 f浮點數"
   ]
  }
 ],
 "metadata": {
  "kernelspec": {
   "display_name": "web_crawler",
   "language": "python",
   "name": "python3"
  },
  "language_info": {
   "codemirror_mode": {
    "name": "ipython",
    "version": 3
   },
   "file_extension": ".py",
   "mimetype": "text/x-python",
   "name": "python",
   "nbconvert_exporter": "python",
   "pygments_lexer": "ipython3",
   "version": "3.11.13"
  }
 },
 "nbformat": 4,
 "nbformat_minor": 5
}
