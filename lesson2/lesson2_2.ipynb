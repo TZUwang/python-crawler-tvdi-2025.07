{
 "cells": [
  {
   "cell_type": "markdown",
   "id": "ef4db2be",
   "metadata": {},
   "source": [
    "### python 基礎"
   ]
  },
  {
   "cell_type": "code",
   "execution_count": 4,
   "id": "afd40ebe",
   "metadata": {},
   "outputs": [
    {
     "name": "stdout",
     "output_type": "stream",
     "text": [
      "Hello! python!\n"
     ]
    }
   ],
   "source": [
    "print(\"Hello! python!\")"
   ]
  },
  {
   "cell_type": "code",
   "execution_count": 7,
   "id": "a7d3ff61",
   "metadata": {},
   "outputs": [
    {
     "name": "stdout",
     "output_type": "stream",
     "text": [
      "名字: Alice\n",
      "年齡: 25\n",
      "身高: 175.5\n",
      "你是學生嗎: True\n"
     ]
    }
   ],
   "source": [
    "#python基本變數\n",
    "\n",
    "name = \"Alice\"         # 字串（string）\n",
    "age = 25               # 整數（integer）\n",
    "height = 175.5          # 浮點數（float）\n",
    "is_student = True      # 布林值（boolean）\n",
    "\n",
    "print(f\"名字: {name}\")\n",
    "print(f\"年齡: {age}\")\n",
    "print(f\"身高: {height}\")\n",
    "print(f\"你是學生嗎: {is_student}\")"
   ]
  }
 ],
 "metadata": {
  "kernelspec": {
   "display_name": "web_ceawler",
   "language": "python",
   "name": "python3"
  },
  "language_info": {
   "codemirror_mode": {
    "name": "ipython",
    "version": 3
   },
   "file_extension": ".py",
   "mimetype": "text/x-python",
   "name": "python",
   "nbconvert_exporter": "python",
   "pygments_lexer": "ipython3",
   "version": "3.11.13"
  }
 },
 "nbformat": 4,
 "nbformat_minor": 5
}
