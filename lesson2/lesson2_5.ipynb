{
 "cells": [
  {
   "cell_type": "code",
   "execution_count": 5,
   "id": "f04a4c1a",
   "metadata": {},
   "outputs": [
    {
     "data": {
      "text/plain": [
       "25"
      ]
     },
     "execution_count": 5,
     "metadata": {},
     "output_type": "execute_result"
    }
   ],
   "source": [
    "#複合指定運算子\n",
    "i = 0\n",
    "i += 25  #把裡面的內容+25\n",
    "i"
   ]
  },
  {
   "cell_type": "code",
   "execution_count": 4,
   "id": "10e2c4a2",
   "metadata": {},
   "outputs": [
    {
     "name": "stdout",
     "output_type": "stream",
     "text": [
      "55\n"
     ]
    }
   ],
   "source": [
    "total = 0\n",
    "total += 1\n",
    "total += 2\n",
    "total += 3\n",
    "total += 4\n",
    "total += 5\n",
    "total += 6\n",
    "total += 7\n",
    "total += 8\n",
    "total += 9\n",
    "total += 10\n",
    "\n",
    "print(total)"
   ]
  },
  {
   "cell_type": "code",
   "execution_count": 2,
   "id": "e794cfb9",
   "metadata": {},
   "outputs": [
    {
     "name": "stdout",
     "output_type": "stream",
     "text": [
      "總和是:50005000\n"
     ]
    }
   ],
   "source": [
    "#明確知道要執行的次數 使用for變數in串列資料: \n",
    "#使用內建function(range)建立串列資料\n",
    "\n",
    "total = 0\n",
    "for i in range(1, 10001):\n",
    "    total += i\n",
    "print(f\"總和是:{total}\")"
   ]
  },
  {
   "cell_type": "code",
   "execution_count": 3,
   "id": "04a1d313",
   "metadata": {},
   "outputs": [
    {
     "name": "stdout",
     "output_type": "stream",
     "text": [
      "計數:1\n"
     ]
    }
   ],
   "source": [
    "#無法得知迴圈的次數 使用while\n",
    "\n",
    "i = 0\n",
    "while(True):\n",
    "    is_play = input(\"你要繼續按嗎?(Yes/No)\")\n",
    "    if is_play == \"No\":\n",
    "        break\n",
    "    i += 1\n",
    "    print(f\"計數:{i}\")"
   ]
  }
 ],
 "metadata": {
  "kernelspec": {
   "display_name": "web_crawler",
   "language": "python",
   "name": "python3"
  },
  "language_info": {
   "codemirror_mode": {
    "name": "ipython",
    "version": 3
   },
   "file_extension": ".py",
   "mimetype": "text/x-python",
   "name": "python",
   "nbconvert_exporter": "python",
   "pygments_lexer": "ipython3",
   "version": "3.11.13"
  }
 },
 "nbformat": 4,
 "nbformat_minor": 5
}
