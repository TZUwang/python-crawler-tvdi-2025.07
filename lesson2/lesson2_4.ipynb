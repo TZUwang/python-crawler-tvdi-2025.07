{
 "cells": [
  {
   "cell_type": "code",
   "execution_count": 1,
   "id": "0db15741",
   "metadata": {},
   "outputs": [
    {
     "name": "stdout",
     "output_type": "stream",
     "text": [
      "你可以亂七八糟看!\n"
     ]
    }
   ],
   "source": [
    "age = 18\n",
    "\n",
    "if age >= 18:\n",
    "    print(\"你可以亂七八糟看!\")"
   ]
  }
 ],
 "metadata": {
  "kernelspec": {
   "display_name": "web_ceawler",
   "language": "python",
   "name": "python3"
  },
  "language_info": {
   "codemirror_mode": {
    "name": "ipython",
    "version": 3
   },
   "file_extension": ".py",
   "mimetype": "text/x-python",
   "name": "python",
   "nbconvert_exporter": "python",
   "pygments_lexer": "ipython3",
   "version": "3.11.13"
  }
 },
 "nbformat": 4,
 "nbformat_minor": 5
}
