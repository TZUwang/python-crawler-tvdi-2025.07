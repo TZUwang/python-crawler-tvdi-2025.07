{
 "cells": [
  {
   "cell_type": "code",
   "execution_count": 13,
   "id": "0db15741",
   "metadata": {},
   "outputs": [
    {
     "name": "stdout",
     "output_type": "stream",
     "text": [
      "你不可以這樣\n"
     ]
    }
   ],
   "source": [
    "#雙向選擇\n",
    "age = 15\n",
    "\n",
    "if age >= 18:\n",
    "    print(\"你可以亂七八糟看!\") #True\n",
    "else:\n",
    "    print(\"你不可以這樣\") #False"
   ]
  },
  {
   "cell_type": "code",
   "execution_count": 15,
   "id": "159d2263",
   "metadata": {},
   "outputs": [
    {
     "name": "stdout",
     "output_type": "stream",
     "text": [
      "你超爛\n"
     ]
    }
   ],
   "source": [
    "#多項選擇\n",
    "score = 38\n",
    "\n",
    "if score >= 90:\n",
    "    print(\"你超強\")\n",
    "elif score >=70:\n",
    "    print(\"普普通通\")\n",
    "elif score >= 60:\n",
    "    print(\"低空飛過\")\n",
    "else:\n",
    "    print(\"你超爛\")"
   ]
  }
 ],
 "metadata": {
  "kernelspec": {
   "display_name": "web_ceawler",
   "language": "python",
   "name": "python3"
  },
  "language_info": {
   "codemirror_mode": {
    "name": "ipython",
    "version": 3
   },
   "file_extension": ".py",
   "mimetype": "text/x-python",
   "name": "python",
   "nbconvert_exporter": "python",
   "pygments_lexer": "ipython3",
   "version": "3.11.13"
  }
 },
 "nbformat": 4,
 "nbformat_minor": 5
}
